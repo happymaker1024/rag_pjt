{
 "cells": [
  {
   "cell_type": "markdown",
   "metadata": {},
   "source": [
    "## RAG로 AI소믈리에 wine pairing"
   ]
  },
  {
   "cell_type": "code",
   "execution_count": 1,
   "metadata": {},
   "outputs": [
    {
     "data": {
      "text/plain": [
       "True"
      ]
     },
     "execution_count": 1,
     "metadata": {},
     "output_type": "execute_result"
    }
   ],
   "source": [
    "from dotenv import load_dotenv\n",
    "import os\n",
    "\n",
    "load_dotenv()"
   ]
  },
  {
   "cell_type": "code",
   "execution_count": 2,
   "metadata": {},
   "outputs": [],
   "source": [
    "from langchain_core.prompts import ChatPromptTemplate, HumanMessagePromptTemplate\n",
    "from langchain_core.output_parsers import StrOutputParser, JsonOutputParser\n",
    "from langchain_openai import ChatOpenAI"
   ]
  },
  {
   "cell_type": "markdown",
   "metadata": {},
   "source": [
    "## LLM을 통한 요리 이미지 -> 맛과 풍미 (image to text)"
   ]
  },
  {
   "cell_type": "code",
   "execution_count": 3,
   "metadata": {},
   "outputs": [],
   "source": [
    "# image 에서 맛(풍미)에 대한 설명 text 생성\n",
    "def describe_dish_flavor(query):\n",
    "    # pass\n",
    "    prompt = ChatPromptTemplate.from_messages([\n",
    "        (\"system\", \"\"\"\n",
    "            Persona: You are a highly skilled and perceptive culinary expert with a deep understanding of flavors, aromas, and textures in a wide variety of cuisines. Your personality is professional, insightful, and approachable, dedicated to helping users understand and appreciate the complexities of taste in their food experiences. You are passionate about exploring subtle nuances in ingredients and dishes, making flavor analysis accessible and engaging.\n",
    "\n",
    "            Role: Your role is to guide users in understanding and analyzing the taste, aroma, texture, and overall flavor profile of various foods. You provide detailed descriptions of flavors and offer insights into how different ingredients, cooking techniques, and seasonings influence the dish's final taste. You also help users make informed choices about ingredient combinations and cooking methods to achieve desired flavors in their culinary creations.\n",
    "            Examples:\n",
    "            Flavor Profile Analysis: If a user describes a dish with grilled lamb seasoned with rosemary and garlic, you might explain how the earthy, woody notes of rosemary enhance the rich, savory flavor of the lamb. You could also describe how the caramelization from grilling adds a layer of smokiness, balanced by the mild sweetness of roasted garlic.\n",
    "            Texture and Mouthfeel Explanation: If a user is tasting a creamy mushroom risotto, you might highlight the importance of the dish’s creamy, velvety texture achieved through the slow release of starch from Arborio rice. You could also mention how the umami-rich flavor of mushrooms adds depth to the dish, while the cheese provides a slight saltiness that balances the creaminess.\n",
    "            Pairing Suggestions: If a user is preparing a spicy Thai green curry, you could recommend balancing its heat with a slightly sweet or acidic side, such as a cucumber salad or coconut rice. You might explain how the coolness of cucumber contrasts with the curry’s heat, and how the subtle sweetness in coconut rice tempers the dish’s spiciness, creating a harmonious dining experience.\n",
    "         \"\"\"),\n",
    "        (\"human\", \"\"\"\n",
    "            이미지의 요리명과 풍미를 한 문장으로 요약해 주세요.\n",
    "        \"\"\")\n",
    "    ])\n",
    "\n",
    "    # image url list\n",
    "    template = []\n",
    "\n",
    "    if query.get(\"image_urls\"):\n",
    "        template += [{\"image_url\": image_url} for image_url in query[\"image_urls\"]]\n",
    "\n",
    "    prompt += HumanMessagePromptTemplate.from_template(template)\n",
    "\n",
    "    llm = ChatOpenAI(model=\"gpt-4o\", temperature=0, max_tokens=4095)\n",
    "\n",
    "    chain = prompt | llm | StrOutputParser()\n",
    "\n",
    "    return chain"
   ]
  },
  {
   "cell_type": "code",
   "execution_count": 4,
   "metadata": {},
   "outputs": [],
   "source": [
    "from langchain_core.runnables import RunnableLambda\n",
    "\n",
    "r1 = RunnableLambda(describe_dish_flavor)"
   ]
  },
  {
   "cell_type": "code",
   "execution_count": 5,
   "metadata": {},
   "outputs": [
    {
     "name": "stdout",
     "output_type": "stream",
     "text": [
      "이 요리는 삼겹살과 김치로, 고소하고 육즙이 풍부한 삼겹살의 풍미가 매콤하고 새콤한 김치와 어우러져 조화로운 맛을 냅니다.\n"
     ]
    }
   ],
   "source": [
    "url = 'https://sitem.ssgcdn.com/95/55/96/item/1000346965595_i1_750.jpg'\n",
    "res = r1.invoke({\n",
    "    \"image_urls\": [url]\n",
    "})\n",
    "print(res)"
   ]
  },
  {
   "cell_type": "markdown",
   "metadata": {},
   "source": [
    "- prompt : 전문적인 요리 사진을 얻을 수 있는 웹사이트를 알려줘"
   ]
  },
  {
   "cell_type": "markdown",
   "metadata": {},
   "source": [
    "## 사용자 프롬프트 vector화, 유사도 높은 top=5 찾기"
   ]
  },
  {
   "cell_type": "code",
   "execution_count": 6,
   "metadata": {},
   "outputs": [
    {
     "data": {
      "text/plain": [
       "[Document(id='8b9cd35b-377b-4d2e-b614-9679a986b2a5', metadata={'row': 62049.0, 'source': './wine_reviews/winemag-data-130k-v2.csv'}, page_content=\": 62049\\ncountry: US\\ndescription: Aggressive now in acidity, this Chardonnay has powerful sour Lifesaver candy flavors of pineapples and stony minerals, with a potent kick from smoky oak. It tastes young and jammy. It's elegant, and changes interestingly as it warms in the glass.\\ndesignation: Ryo-fu\\npoints: 89\\nprice: 44.0\\nprovince: California\\nregion_1: Russian River Valley\\nregion_2: Sonoma\\ntaster_name: \\ntaster_twitter_handle: \\ntitle: Freeman 2008 Ryo-fu Pinot Noir (Russian River Valley)\\nvariety: Pinot Noir\\nwinery: Freeman\"),\n",
       " Document(id='631d6af3-679b-4aea-b581-2a349b4e4b86', metadata={'row': 20494.0, 'source': './wine_reviews/winemag-data-130k-v2.csv'}, page_content=': 20494\\ncountry: US\\ndescription: This lightly sweet wine has an intense oaky, peppery, smoky aroma and the flavors come out the same way. The beefy, liquid-smoke character should match ribs in barbecue sauce.\\ndesignation: Sultry\\npoints: 85\\nprice: 12.0\\nprovince: California\\nregion_1: California\\nregion_2: California Other\\ntaster_name: Jim Gordon\\ntaster_twitter_handle: @gordone_cellars\\ntitle: Hey Mambo 2013 Sultry Red (California)\\nvariety: Red Blend\\nwinery: Hey Mambo'),\n",
       " Document(id='673daa2c-36a5-4448-88b1-a1064c2155e2', metadata={'row': 82180.0, 'source': './wine_reviews/winemag-data-130k-v2.csv'}, page_content=\": 82180\\ncountry: US\\ndescription: An unabashedly rich and luscious wine, this combines ripe and fresh fruit flavors with luxurious spicy, buttery accents and an almost thick texture. With a subtext as savory as Udon broth it's practically a meal in a bottle. Call it full-bodied, full-flavored, ultrasmooth and impressive.\\ndesignation: \\npoints: 90\\nprice: 22.0\\nprovince: California\\nregion_1: Sonoma County-Monterey County-Santa Barbara County\\nregion_2: California Other\\ntaster_name: Jim Gordon\\ntaster_twitter_handle: @gordone_cellars\\ntitle: Meiomi 2013 Chardonnay (Sonoma County-Monterey County-Santa Barbara County)\\nvariety: Chardonnay\\nwinery: Meiomi\"),\n",
       " Document(id='54e808db-7415-4d63-a4d0-afbce723c476', metadata={'row': 73126.0, 'source': './wine_reviews/winemag-data-130k-v2.csv'}, page_content=\": 73126\\ncountry: US\\ndescription: An unabashedly rich and luscious wine, this combines ripe and fresh fruit flavors with luxurious spicy, buttery accents and an almost thick texture. With a subtext as savory as Udon broth it's practically a meal in a bottle. Call it full-bodied, full-flavored, ultrasmooth and impressive.\\ndesignation: \\npoints: 90\\nprice: 22.0\\nprovince: California\\nregion_1: Sonoma County-Monterey County-Santa Barbara County\\nregion_2: California Other\\ntaster_name: Jim Gordon\\ntaster_twitter_handle: @gordone_cellars\\ntitle: Meiomi 2013 Chardonnay (Sonoma County-Monterey County-Santa Barbara County)\\nvariety: Chardonnay\\nwinery: Meiomi\"),\n",
       " Document(id='31f09258-f528-424e-9ac7-487378b1c3f0', metadata={'row': 85863.0, 'source': './wine_reviews/winemag-data-130k-v2.csv'}, page_content=': 85863\\ncountry: US\\ndescription: This kitchen sink-style blend shows a whiff of volatility along with notes of vanilla and cherry candy. The palate is full of sweet, plump fruit flavors that linger on the finish.\\ndesignation: Oink!\\npoints: 87\\nprice: 15.0\\nprovince: America\\nregion_1: \\nregion_2: \\ntaster_name: Sean P. Sullivan\\ntaster_twitter_handle: @wawinereport\\ntitle: BBQ Wine Company NV Oink! Red (America)\\nvariety: Red Blend\\nwinery: BBQ Wine Company')]"
      ]
     },
     "execution_count": 6,
     "metadata": {},
     "output_type": "execute_result"
    }
   ],
   "source": [
    "from langchain_openai import OpenAIEmbeddings\n",
    "from langchain_pinecone import PineconeVectorStore\n",
    "import os\n",
    "\n",
    "embedding = OpenAIEmbeddings(model=os.getenv(\"OPENAI_EMBEDDING_MODEL\"))\n",
    "vector_store = PineconeVectorStore(\n",
    "    index_name=os.getenv(\"PINECONE_INDEX_NAME\"),\n",
    "    embedding=embedding,\n",
    "    namespace=os.getenv(\"PINECONE_NAMESPACE\")\n",
    ")\n",
    "\n",
    "query = \"이 요리는 삼겹살과 김치로, 고소하고 육즙이 풍부한 삼겹살의 풍미가 매콤하고 새콤한 김치와 어우러져 조화로운 맛을 냅니다.\"\n",
    "vector_store.similarity_search(query, namespace=os.getenv(\"PINECONE_NAMESPACE\"), k=5)"
   ]
  },
  {
   "cell_type": "code",
   "execution_count": 7,
   "metadata": {},
   "outputs": [],
   "source": [
    "def search_wines(dish_flavor):\n",
    "    embedding = OpenAIEmbeddings(model=os.getenv(\"OPENAI_EMBEDDING_MODEL\"))\n",
    "    vector_store = PineconeVectorStore(\n",
    "        index_name=os.getenv(\"PINECONE_INDEX_NAME\"),\n",
    "        embedding=embedding,\n",
    "        namespace=os.getenv(\"PINECONE_NAMESPACE\")\n",
    "    )\n",
    "\n",
    "    results =  vector_store.similarity_search(dish_flavor, namespace=os.getenv(\"PINECONE_NAMESPACE\"), k=5)\n",
    "\n",
    "    return {\n",
    "        \"dish_flavor\": dish_flavor,\n",
    "        \"wine_reviews\": \"\\n\".join([doc.page_content for doc in results])\n",
    "    }\n",
    "\n",
    "# query = \"이 요리는 삼겹살과 김치로, 고소하고 육즙이 풍부한 삼겹살의 풍미가 매콤하고 새콤한 김치와 어우러져 조화로운 맛을 냅니다.\"\n",
    "\n",
    "# results = search_wines(query)\n",
    "\n",
    "# print(results.dish_flavor)\n",
    "# print(results.wine_reviews)"
   ]
  },
  {
   "cell_type": "markdown",
   "metadata": {},
   "source": [
    "## RunnableLambda로 실행"
   ]
  },
  {
   "cell_type": "code",
   "execution_count": 8,
   "metadata": {},
   "outputs": [
    {
     "name": "stdout",
     "output_type": "stream",
     "text": [
      "이 요리는 삼겹살과 김치로, 고소하고 육즙이 풍부한 삼겹살의 풍미가 매콤하고 새콤한 김치와 어우러져 조화로운 맛을 냅니다.\n",
      ": 62049\n",
      "country: US\n",
      "description: Aggressive now in acidity, this Chardonnay has powerful sour Lifesaver candy flavors of pineapples and stony minerals, with a potent kick from smoky oak. It tastes young and jammy. It's elegant, and changes interestingly as it warms in the glass.\n",
      "designation: Ryo-fu\n",
      "points: 89\n",
      "price: 44.0\n",
      "province: California\n",
      "region_1: Russian River Valley\n",
      "region_2: Sonoma\n",
      "taster_name: \n",
      "taster_twitter_handle: \n",
      "title: Freeman 2008 Ryo-fu Pinot Noir (Russian River Valley)\n",
      "variety: Pinot Noir\n",
      "winery: Freeman\n",
      ": 20494\n",
      "country: US\n",
      "description: This lightly sweet wine has an intense oaky, peppery, smoky aroma and the flavors come out the same way. The beefy, liquid-smoke character should match ribs in barbecue sauce.\n",
      "designation: Sultry\n",
      "points: 85\n",
      "price: 12.0\n",
      "province: California\n",
      "region_1: California\n",
      "region_2: California Other\n",
      "taster_name: Jim Gordon\n",
      "taster_twitter_handle: @gordone_cellars\n",
      "title: Hey Mambo 2013 Sultry Red (California)\n",
      "variety: Red Blend\n",
      "winery: Hey Mambo\n",
      ": 82180\n",
      "country: US\n",
      "description: An unabashedly rich and luscious wine, this combines ripe and fresh fruit flavors with luxurious spicy, buttery accents and an almost thick texture. With a subtext as savory as Udon broth it's practically a meal in a bottle. Call it full-bodied, full-flavored, ultrasmooth and impressive.\n",
      "designation: \n",
      "points: 90\n",
      "price: 22.0\n",
      "province: California\n",
      "region_1: Sonoma County-Monterey County-Santa Barbara County\n",
      "region_2: California Other\n",
      "taster_name: Jim Gordon\n",
      "taster_twitter_handle: @gordone_cellars\n",
      "title: Meiomi 2013 Chardonnay (Sonoma County-Monterey County-Santa Barbara County)\n",
      "variety: Chardonnay\n",
      "winery: Meiomi\n",
      ": 73126\n",
      "country: US\n",
      "description: An unabashedly rich and luscious wine, this combines ripe and fresh fruit flavors with luxurious spicy, buttery accents and an almost thick texture. With a subtext as savory as Udon broth it's practically a meal in a bottle. Call it full-bodied, full-flavored, ultrasmooth and impressive.\n",
      "designation: \n",
      "points: 90\n",
      "price: 22.0\n",
      "province: California\n",
      "region_1: Sonoma County-Monterey County-Santa Barbara County\n",
      "region_2: California Other\n",
      "taster_name: Jim Gordon\n",
      "taster_twitter_handle: @gordone_cellars\n",
      "title: Meiomi 2013 Chardonnay (Sonoma County-Monterey County-Santa Barbara County)\n",
      "variety: Chardonnay\n",
      "winery: Meiomi\n",
      ": 85863\n",
      "country: US\n",
      "description: This kitchen sink-style blend shows a whiff of volatility along with notes of vanilla and cherry candy. The palate is full of sweet, plump fruit flavors that linger on the finish.\n",
      "designation: Oink!\n",
      "points: 87\n",
      "price: 15.0\n",
      "province: America\n",
      "region_1: \n",
      "region_2: \n",
      "taster_name: Sean P. Sullivan\n",
      "taster_twitter_handle: @wawinereport\n",
      "title: BBQ Wine Company NV Oink! Red (America)\n",
      "variety: Red Blend\n",
      "winery: BBQ Wine Company\n"
     ]
    }
   ],
   "source": [
    "r2 = RunnableLambda(search_wines)\n",
    "query = \"이 요리는 삼겹살과 김치로, 고소하고 육즙이 풍부한 삼겹살의 풍미가 매콤하고 새콤한 김치와 어우러져 조화로운 맛을 냅니다.\"\n",
    "res = r2.invoke(query)\n",
    "print(res.get(\"dish_flavor\"))\n",
    "print(res.get(\"wine_reviews\"))"
   ]
  },
  {
   "cell_type": "markdown",
   "metadata": {},
   "source": [
    "## r1, r2로 구성"
   ]
  },
  {
   "cell_type": "code",
   "execution_count": 9,
   "metadata": {},
   "outputs": [],
   "source": [
    "img_url = 'https://sitem.ssgcdn.com/95/55/96/item/1000346965595_i1_750.jpg'\n",
    "chain = r1 | r2\n",
    "res = chain.invoke({\n",
    "    \"image_urls\": [img_url]\n",
    "})"
   ]
  },
  {
   "cell_type": "code",
   "execution_count": 10,
   "metadata": {},
   "outputs": [
    {
     "name": "stdout",
     "output_type": "stream",
     "text": [
      "이 요리는 삼겹살과 김치로, 고소하고 육즙이 풍부한 삼겹살의 풍미가 매콤하고 새콤한 김치와 어우러져 조화로운 맛을 냅니다.\n",
      ": 62049\n",
      "country: US\n",
      "description: Aggressive now in acidity, this Chardonnay has powerful sour Lifesaver candy flavors of pineapples and stony minerals, with a potent kick from smoky oak. It tastes young and jammy. It's elegant, and changes interestingly as it warms in the glass.\n",
      "designation: Ryo-fu\n",
      "points: 89\n",
      "price: 44.0\n",
      "province: California\n",
      "region_1: Russian River Valley\n",
      "region_2: Sonoma\n",
      "taster_name: \n",
      "taster_twitter_handle: \n",
      "title: Freeman 2008 Ryo-fu Pinot Noir (Russian River Valley)\n",
      "variety: Pinot Noir\n",
      "winery: Freeman\n",
      ": 20494\n",
      "country: US\n",
      "description: This lightly sweet wine has an intense oaky, peppery, smoky aroma and the flavors come out the same way. The beefy, liquid-smoke character should match ribs in barbecue sauce.\n",
      "designation: Sultry\n",
      "points: 85\n",
      "price: 12.0\n",
      "province: California\n",
      "region_1: California\n",
      "region_2: California Other\n",
      "taster_name: Jim Gordon\n",
      "taster_twitter_handle: @gordone_cellars\n",
      "title: Hey Mambo 2013 Sultry Red (California)\n",
      "variety: Red Blend\n",
      "winery: Hey Mambo\n",
      ": 82180\n",
      "country: US\n",
      "description: An unabashedly rich and luscious wine, this combines ripe and fresh fruit flavors with luxurious spicy, buttery accents and an almost thick texture. With a subtext as savory as Udon broth it's practically a meal in a bottle. Call it full-bodied, full-flavored, ultrasmooth and impressive.\n",
      "designation: \n",
      "points: 90\n",
      "price: 22.0\n",
      "province: California\n",
      "region_1: Sonoma County-Monterey County-Santa Barbara County\n",
      "region_2: California Other\n",
      "taster_name: Jim Gordon\n",
      "taster_twitter_handle: @gordone_cellars\n",
      "title: Meiomi 2013 Chardonnay (Sonoma County-Monterey County-Santa Barbara County)\n",
      "variety: Chardonnay\n",
      "winery: Meiomi\n",
      ": 73126\n",
      "country: US\n",
      "description: An unabashedly rich and luscious wine, this combines ripe and fresh fruit flavors with luxurious spicy, buttery accents and an almost thick texture. With a subtext as savory as Udon broth it's practically a meal in a bottle. Call it full-bodied, full-flavored, ultrasmooth and impressive.\n",
      "designation: \n",
      "points: 90\n",
      "price: 22.0\n",
      "province: California\n",
      "region_1: Sonoma County-Monterey County-Santa Barbara County\n",
      "region_2: California Other\n",
      "taster_name: Jim Gordon\n",
      "taster_twitter_handle: @gordone_cellars\n",
      "title: Meiomi 2013 Chardonnay (Sonoma County-Monterey County-Santa Barbara County)\n",
      "variety: Chardonnay\n",
      "winery: Meiomi\n",
      ": 85863\n",
      "country: US\n",
      "description: This kitchen sink-style blend shows a whiff of volatility along with notes of vanilla and cherry candy. The palate is full of sweet, plump fruit flavors that linger on the finish.\n",
      "designation: Oink!\n",
      "points: 87\n",
      "price: 15.0\n",
      "province: America\n",
      "region_1: \n",
      "region_2: \n",
      "taster_name: Sean P. Sullivan\n",
      "taster_twitter_handle: @wawinereport\n",
      "title: BBQ Wine Company NV Oink! Red (America)\n",
      "variety: Red Blend\n",
      "winery: BBQ Wine Company\n"
     ]
    }
   ],
   "source": [
    "print(res.get(\"dish_flavor\"))\n",
    "print(res.get(\"wine_reviews\"))"
   ]
  },
  {
   "cell_type": "markdown",
   "metadata": {},
   "source": [
    "## 와인 추천"
   ]
  },
  {
   "cell_type": "code",
   "execution_count": 11,
   "metadata": {},
   "outputs": [],
   "source": [
    "def recommand_wines(query):\n",
    "    \n",
    "    prompt = ChatPromptTemplate.from_messages([\n",
    "        (\"system\", \"\"\"\n",
    "            Persona: You are a refined and approachable virtual wine sommelier with a deep passion for wines, dedicated to helping users explore and enjoy the world of wine with confidence. Your personality is warm, insightful, and patient, ensuring that users feel at ease while learning about wine, regardless of their experience level.\n",
    "            Role: Your role is to guide users in selecting wines, pairing them with food, and understanding wine characteristics. You are adept at explaining complex wine concepts such as tannins, acidity, and terroir in a way that is accessible to everyone. In addition, you provide suggestions based on the user’s preferences, budget, and the occasion, helping them find the perfect wine to enhance their dining experience.\n",
    "            Examples:\n",
    "            Wine Pairing Recommendation: If a user is preparing a buttery garlic shrimp dish, you might suggest a crisp, mineral-driven Chablis or a New Zealand Sauvignon Blanc, explaining how these wines’ acidity and minerality balance the richness of the butter and complement the flavors of the shrimp.\n",
    "            Wine Selection for a Casual Gathering: If a user is hosting a casual gathering and needs an affordable, crowd-pleasing wine, you might recommend a fruit-forward Pinot Noir or a light Italian Pinot Grigio. Highlight the wines' versatility and how they pair well with a variety of foods, making them ideal for social settings.\n",
    "            Wine Terminology Explanation: If a user asks what “terroir” means, you would explain it as the unique combination of soil, climate, and landscape in a wine-growing region that influences the wine's flavor, making each wine distinctive to its origin.\n",
    "            \"\"\"\n",
    "         ),\n",
    "        (\"human\", \"\"\"\n",
    "            와인 페어링 추천에 아래의 요리와 풍미, 와인 리뷰만을 참고하여 한글로 답변해 주세요.\n",
    "\n",
    "            요리와 풍미:\n",
    "            {dish_flavor}\n",
    "         \n",
    "            와인 리뷰:\n",
    "            {wine_reviews}\n",
    "         \n",
    "            답변은 다음과 같은 값으로 json 데이터로 리턴해주세요.\n",
    "            recommend_wine :\n",
    "            recommend_reason :\n",
    "        \"\"\")\n",
    "    ])\n",
    "    \n",
    "    llm = ChatOpenAI(model=\"gpt-4o\", temperature=0, max_tokens=4095)\n",
    "    # chain = prompt | llm | StrOutputParser()\n",
    "    chain = prompt | llm | JsonOutputParser()\n",
    "\n",
    "    return chain\n"
   ]
  },
  {
   "cell_type": "code",
   "execution_count": 12,
   "metadata": {},
   "outputs": [],
   "source": [
    "r1 = RunnableLambda(describe_dish_flavor)\n",
    "r2 = RunnableLambda(search_wines)\n",
    "r3 = RunnableLambda(recommand_wines)\n",
    "\n",
    "chain = r1 | r2 | r3\n",
    "img_urls = ['https://sitem.ssgcdn.com/95/55/96/item/1000346965595_i1_750.jpg']\n",
    "res = chain.invoke({\n",
    "    \"image_urls\": img_urls\n",
    "})"
   ]
  },
  {
   "cell_type": "code",
   "execution_count": 13,
   "metadata": {},
   "outputs": [
    {
     "name": "stdout",
     "output_type": "stream",
     "text": [
      "{'recommend_wine': 'Hey Mambo 2013 Sultry Red (California)', 'recommend_reason': \"삼겹살 구이의 고소하고 육즙이 풍부한 돼지고기와 매콤하고 새콤한 김치의 조화를 고려할 때, 'Hey Mambo 2013 Sultry Red' 와인은 그 자체로 가벼운 단맛과 강렬한 오크, 후추, 스모키한 향이 돋보입니다. 이러한 풍미는 삼겹살의 풍부한 맛과 김치의 매콤함을 잘 보완하며, 특히 바비큐 소스와 잘 어울리는 스모키한 특성이 돼지고기와 훌륭한 조화를 이룰 것입니다.\"}\n"
     ]
    }
   ],
   "source": [
    "print(res)"
   ]
  },
  {
   "cell_type": "code",
   "execution_count": null,
   "metadata": {},
   "outputs": [],
   "source": []
  },
  {
   "cell_type": "code",
   "execution_count": null,
   "metadata": {},
   "outputs": [],
   "source": []
  }
 ],
 "metadata": {
  "kernelspec": {
   "display_name": "lcenv_py312",
   "language": "python",
   "name": "python3"
  },
  "language_info": {
   "codemirror_mode": {
    "name": "ipython",
    "version": 3
   },
   "file_extension": ".py",
   "mimetype": "text/x-python",
   "name": "python",
   "nbconvert_exporter": "python",
   "pygments_lexer": "ipython3",
   "version": "3.12.7"
  }
 },
 "nbformat": 4,
 "nbformat_minor": 2
}
