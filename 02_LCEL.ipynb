{
 "cells": [
  {
   "cell_type": "markdown",
   "metadata": {},
   "source": [
    "## RunnableLambda 객체 사용방법"
   ]
  },
  {
   "cell_type": "code",
   "execution_count": 4,
   "metadata": {},
   "outputs": [
    {
     "name": "stdout",
     "output_type": "stream",
     "text": [
      "20\n"
     ]
    }
   ],
   "source": [
    "from langchain_core.runnables import RunnableLambda\n",
    "\n",
    "def func(x):\n",
    "    return  x*2\n",
    "\n",
    "runnable_1 = RunnableLambda(func)\n",
    "\n",
    "print(runnable_1.invoke(10))"
   ]
  },
  {
   "cell_type": "code",
   "execution_count": 6,
   "metadata": {},
   "outputs": [
    {
     "name": "stdout",
     "output_type": "stream",
     "text": [
      "20\n"
     ]
    }
   ],
   "source": [
    "# RunnableLambda 객체 사용\n",
    "runnable_1 = RunnableLambda(lambda x: x*2)\n",
    "print(runnable_1.invoke(10))"
   ]
  },
  {
   "cell_type": "code",
   "execution_count": 9,
   "metadata": {},
   "outputs": [
    {
     "name": "stdout",
     "output_type": "stream",
     "text": [
      "[20, 40, 60]\n"
     ]
    }
   ],
   "source": [
    "# runnable batch\n",
    "runnable_3 = RunnableLambda(func)\n",
    "\n",
    "print(runnable_3.batch([10, 20, 30]))"
   ]
  },
  {
   "cell_type": "code",
   "execution_count": null,
   "metadata": {},
   "outputs": [],
   "source": [
    "def gen(x):\n",
    "    for y in x :\n",
    "        yield y * 2\n",
    "    \n",
    "\n",
    "# runnable \n",
    "runnable_4 = RunnableLambda(gen)\n",
    "for chunk in runnable_4.stream(range(10)):\n",
    "    print(chunk)\n"
   ]
  },
  {
   "cell_type": "code",
   "execution_count": 11,
   "metadata": {},
   "outputs": [
    {
     "name": "stdout",
     "output_type": "stream",
     "text": [
      "0\n",
      "2\n",
      "4\n",
      "6\n",
      "8\n",
      "10\n",
      "12\n",
      "14\n",
      "16\n",
      "18\n"
     ]
    }
   ],
   "source": [
    "def gen(x):\n",
    "    for y in x :\n",
    "        yield y * 2\n",
    "    \n",
    "\n",
    "# runnable \n",
    "runnable_4 = RunnableLambda(gen)\n",
    "for chunk in runnable_4.stream(range(10)):\n",
    "    print(chunk)\n"
   ]
  },
  {
   "cell_type": "markdown",
   "metadata": {},
   "source": [
    "## 순차적 실행하게 하는 방법"
   ]
  },
  {
   "cell_type": "code",
   "execution_count": 12,
   "metadata": {},
   "outputs": [
    {
     "data": {
      "text/plain": [
       "32"
      ]
     },
     "execution_count": 12,
     "metadata": {},
     "output_type": "execute_result"
    }
   ],
   "source": [
    "from langchain_core.runnables import RunnableLambda, RunnableSequence\n",
    "\n",
    "r1 = RunnableLambda(lambda x: 3 * x)\n",
    "r2 = RunnableLambda(lambda x: x + 2)\n",
    "\n",
    "chain = r1 | r2\n",
    "\n",
    "chain.invoke(10)\n",
    "\n"
   ]
  },
  {
   "cell_type": "markdown",
   "metadata": {},
   "source": [
    "# "
   ]
  },
  {
   "cell_type": "code",
   "execution_count": 13,
   "metadata": {},
   "outputs": [
    {
     "data": {
      "text/plain": [
       "32"
      ]
     },
     "execution_count": 13,
     "metadata": {},
     "output_type": "execute_result"
    }
   ],
   "source": [
    "from langchain_core.runnables import RunnableLambda, RunnableParallel\n",
    "\n",
    "r1 = RunnableLambda(lambda x: 3 * x)\n",
    "r2 = RunnableLambda(lambda x: x + 2)\n",
    "\n",
    "# chain = r1 | r2  # 아래와 같은 표현\n",
    "chain = RunnableSequence(r1, r2)\n",
    "\n",
    "chain.invoke(10)"
   ]
  },
  {
   "cell_type": "code",
   "execution_count": 16,
   "metadata": {},
   "outputs": [
    {
     "data": {
      "text/plain": [
       "{'first': 30, 'second': 12}"
      ]
     },
     "execution_count": 16,
     "metadata": {},
     "output_type": "execute_result"
    }
   ],
   "source": [
    "from langchain_core.runnables import RunnableLambda, RunnableParallel\n",
    "\n",
    "r1 = RunnableLambda(lambda x: 3 * x)\n",
    "r2 = RunnableLambda(lambda x: x + 2)\n",
    "\n",
    "# 병렬처리 , r1, r2 키는 임으로 설정해 주면 됨.\n",
    "# chain = RunnableParallel(r1=r1, r2=r2)\n",
    "chain = RunnableParallel(first=r1, second=r2)\n",
    "\n",
    "chain.invoke(10)"
   ]
  },
  {
   "cell_type": "code",
   "execution_count": 17,
   "metadata": {},
   "outputs": [
    {
     "name": "stdout",
     "output_type": "stream",
     "text": [
      "Note: you may need to restart the kernel to use updated packages.\n"
     ]
    }
   ],
   "source": [
    "%pip install -qU grandalf"
   ]
  },
  {
   "cell_type": "code",
   "execution_count": 18,
   "metadata": {},
   "outputs": [
    {
     "name": "stdout",
     "output_type": "stream",
     "text": [
      "{'r2': [{'foo': 2}, {'foo': 2}, {'foo': 2}], 'r3': \"{'foo': 2}\"}\n",
      "        +-------------+        \n",
      "        | LambdaInput |        \n",
      "        +-------------+        \n",
      "               *               \n",
      "               *               \n",
      "               *               \n",
      "          +--------+           \n",
      "          | Lambda |           \n",
      "          +--------+           \n",
      "               *               \n",
      "               *               \n",
      "               *               \n",
      "   +----------------------+    \n",
      "   | Parallel<r2,r3>Input |    \n",
      "   +----------------------+    \n",
      "          *         *          \n",
      "        **           **        \n",
      "       *               *       \n",
      "+--------+          +--------+ \n",
      "| Lambda |          | Lambda | \n",
      "+--------+          +--------+ \n",
      "          *         *          \n",
      "           **     **           \n",
      "             *   *             \n",
      "  +-----------------------+    \n",
      "  | Parallel<r2,r3>Output |    \n",
      "  +-----------------------+    \n"
     ]
    }
   ],
   "source": [
    "from langchain_core.runnables import RunnableLambda, RunnableParallel\n",
    "\n",
    "runnable_1 = RunnableLambda(lambda x: {\"foo\": x})\n",
    "runnable_2 = RunnableLambda(lambda x: [x] * 3)\n",
    "runnable_3 = RunnableLambda(lambda x: str(x))\n",
    "\n",
    "chain = runnable_1 | RunnableParallel(r2=runnable_2, r3=runnable_3)\n",
    "\n",
    "print(chain.invoke(2))\n",
    "chain.get_graph().print_ascii()"
   ]
  },
  {
   "cell_type": "markdown",
   "metadata": {},
   "source": [
    "## LCEL 예제"
   ]
  },
  {
   "cell_type": "code",
   "execution_count": 20,
   "metadata": {},
   "outputs": [
    {
     "ename": "TypeError",
     "evalue": "Expected a Runnable, callable or dict.Instead got an unsupported type: <class 'str'>",
     "output_type": "error",
     "traceback": [
      "\u001b[1;31m---------------------------------------------------------------------------\u001b[0m",
      "\u001b[1;31mTypeError\u001b[0m                                 Traceback (most recent call last)",
      "Cell \u001b[1;32mIn[20], line 11\u001b[0m\n\u001b[0;32m      1\u001b[0m \u001b[38;5;28;01mfrom\u001b[39;00m \u001b[38;5;21;01mlangchain_core\u001b[39;00m\u001b[38;5;21;01m.\u001b[39;00m\u001b[38;5;21;01mprompts\u001b[39;00m \u001b[38;5;28;01mimport\u001b[39;00m ChatPromptTemplate\n\u001b[0;32m      3\u001b[0m prompt \u001b[38;5;241m=\u001b[39m ChatPromptTemplate\u001b[38;5;241m.\u001b[39mfrom_template(\u001b[38;5;124m\"\"\"\u001b[39m\n\u001b[0;32m      4\u001b[0m \u001b[38;5;124m    다음 컨텍스트에 대해서만 답하세요.\u001b[39m\n\u001b[0;32m      5\u001b[0m \u001b[38;5;124m    컨텍스트 :\u001b[39m\n\u001b[1;32m   (...)\u001b[0m\n\u001b[0;32m      8\u001b[0m \u001b[38;5;124m    \u001b[39m\u001b[38;5;132;01m{query}\u001b[39;00m\n\u001b[0;32m      9\u001b[0m \u001b[38;5;124m\"\"\"\u001b[39m)\n\u001b[1;32m---> 11\u001b[0m chain \u001b[38;5;241m=\u001b[39m \u001b[43m{\u001b[49m\n\u001b[0;32m     12\u001b[0m \u001b[43m            \u001b[49m\u001b[38;5;124;43m\"\u001b[39;49m\u001b[38;5;124;43mcontext\u001b[39;49m\u001b[38;5;124;43m\"\u001b[39;49m\u001b[43m:\u001b[49m\u001b[43m \u001b[49m\u001b[38;5;124;43m\"\u001b[39;49m\u001b[38;5;124;43mVector Search에 의한 컨텐스트 내용\u001b[39;49m\u001b[38;5;124;43m\"\u001b[39;49m\u001b[43m,\u001b[49m\u001b[43m \u001b[49m\n\u001b[0;32m     13\u001b[0m \u001b[43m            \u001b[49m\u001b[38;5;124;43m\"\u001b[39;49m\u001b[38;5;124;43mquery\u001b[39;49m\u001b[38;5;124;43m\"\u001b[39;49m\u001b[43m:\u001b[49m\u001b[43m \u001b[49m\u001b[38;5;124;43m\"\u001b[39;49m\u001b[38;5;124;43m질의 내용\u001b[39;49m\u001b[38;5;124;43m\"\u001b[39;49m\n\u001b[0;32m     14\u001b[0m \u001b[43m        \u001b[49m\u001b[43m}\u001b[49m\u001b[43m \u001b[49m\u001b[38;5;241;43m|\u001b[39;49m\u001b[43m \u001b[49m\u001b[43mprompt\u001b[49m\n\u001b[0;32m     15\u001b[0m \u001b[38;5;28mprint\u001b[39m(chain\u001b[38;5;241m.\u001b[39minvoke({}))\n",
      "File \u001b[1;32m~\\AppData\\Roaming\\Python\\Python312\\site-packages\\langchain_core\\runnables\\base.py:589\u001b[0m, in \u001b[0;36mRunnable.__ror__\u001b[1;34m(self, other)\u001b[0m\n\u001b[0;32m    579\u001b[0m \u001b[38;5;28;01mdef\u001b[39;00m \u001b[38;5;21m__ror__\u001b[39m(\n\u001b[0;32m    580\u001b[0m     \u001b[38;5;28mself\u001b[39m,\n\u001b[0;32m    581\u001b[0m     other: Union[\n\u001b[1;32m   (...)\u001b[0m\n\u001b[0;32m    586\u001b[0m     ],\n\u001b[0;32m    587\u001b[0m ) \u001b[38;5;241m-\u001b[39m\u001b[38;5;241m>\u001b[39m RunnableSerializable[Other, Output]:\n\u001b[0;32m    588\u001b[0m \u001b[38;5;250m    \u001b[39m\u001b[38;5;124;03m\"\"\"Compose this Runnable with another object to create a RunnableSequence.\"\"\"\u001b[39;00m\n\u001b[1;32m--> 589\u001b[0m     \u001b[38;5;28;01mreturn\u001b[39;00m RunnableSequence(\u001b[43mcoerce_to_runnable\u001b[49m\u001b[43m(\u001b[49m\u001b[43mother\u001b[49m\u001b[43m)\u001b[49m, \u001b[38;5;28mself\u001b[39m)\n",
      "File \u001b[1;32m~\\AppData\\Roaming\\Python\\Python312\\site-packages\\langchain_core\\runnables\\base.py:5837\u001b[0m, in \u001b[0;36mcoerce_to_runnable\u001b[1;34m(thing)\u001b[0m\n\u001b[0;32m   5835\u001b[0m     \u001b[38;5;28;01mreturn\u001b[39;00m RunnableLambda(cast(Callable[[Input], Output], thing))\n\u001b[0;32m   5836\u001b[0m \u001b[38;5;28;01melif\u001b[39;00m \u001b[38;5;28misinstance\u001b[39m(thing, \u001b[38;5;28mdict\u001b[39m):\n\u001b[1;32m-> 5837\u001b[0m     \u001b[38;5;28;01mreturn\u001b[39;00m cast(Runnable[Input, Output], \u001b[43mRunnableParallel\u001b[49m\u001b[43m(\u001b[49m\u001b[43mthing\u001b[49m\u001b[43m)\u001b[49m)\n\u001b[0;32m   5838\u001b[0m \u001b[38;5;28;01melse\u001b[39;00m:\n\u001b[0;32m   5839\u001b[0m     msg \u001b[38;5;241m=\u001b[39m (\n\u001b[0;32m   5840\u001b[0m         \u001b[38;5;124mf\u001b[39m\u001b[38;5;124m\"\u001b[39m\u001b[38;5;124mExpected a Runnable, callable or dict.\u001b[39m\u001b[38;5;124m\"\u001b[39m\n\u001b[0;32m   5841\u001b[0m         \u001b[38;5;124mf\u001b[39m\u001b[38;5;124m\"\u001b[39m\u001b[38;5;124mInstead got an unsupported type: \u001b[39m\u001b[38;5;132;01m{\u001b[39;00m\u001b[38;5;28mtype\u001b[39m(thing)\u001b[38;5;132;01m}\u001b[39;00m\u001b[38;5;124m\"\u001b[39m\n\u001b[0;32m   5842\u001b[0m     )\n",
      "File \u001b[1;32m~\\AppData\\Roaming\\Python\\Python312\\site-packages\\langchain_core\\runnables\\base.py:3539\u001b[0m, in \u001b[0;36mRunnableParallel.__init__\u001b[1;34m(self, steps__, **kwargs)\u001b[0m\n\u001b[0;32m   3536\u001b[0m merged \u001b[38;5;241m=\u001b[39m {\u001b[38;5;241m*\u001b[39m\u001b[38;5;241m*\u001b[39msteps__} \u001b[38;5;28;01mif\u001b[39;00m steps__ \u001b[38;5;129;01mis\u001b[39;00m \u001b[38;5;129;01mnot\u001b[39;00m \u001b[38;5;28;01mNone\u001b[39;00m \u001b[38;5;28;01melse\u001b[39;00m {}\n\u001b[0;32m   3537\u001b[0m merged\u001b[38;5;241m.\u001b[39mupdate(kwargs)\n\u001b[0;32m   3538\u001b[0m \u001b[38;5;28msuper\u001b[39m()\u001b[38;5;241m.\u001b[39m\u001b[38;5;21m__init__\u001b[39m(  \u001b[38;5;66;03m# type: ignore[call-arg]\u001b[39;00m\n\u001b[1;32m-> 3539\u001b[0m     steps__\u001b[38;5;241m=\u001b[39m{key: \u001b[43mcoerce_to_runnable\u001b[49m\u001b[43m(\u001b[49m\u001b[43mr\u001b[49m\u001b[43m)\u001b[49m \u001b[38;5;28;01mfor\u001b[39;00m key, r \u001b[38;5;129;01min\u001b[39;00m merged\u001b[38;5;241m.\u001b[39mitems()}\n\u001b[0;32m   3540\u001b[0m )\n",
      "File \u001b[1;32m~\\AppData\\Roaming\\Python\\Python312\\site-packages\\langchain_core\\runnables\\base.py:5843\u001b[0m, in \u001b[0;36mcoerce_to_runnable\u001b[1;34m(thing)\u001b[0m\n\u001b[0;32m   5838\u001b[0m \u001b[38;5;28;01melse\u001b[39;00m:\n\u001b[0;32m   5839\u001b[0m     msg \u001b[38;5;241m=\u001b[39m (\n\u001b[0;32m   5840\u001b[0m         \u001b[38;5;124mf\u001b[39m\u001b[38;5;124m\"\u001b[39m\u001b[38;5;124mExpected a Runnable, callable or dict.\u001b[39m\u001b[38;5;124m\"\u001b[39m\n\u001b[0;32m   5841\u001b[0m         \u001b[38;5;124mf\u001b[39m\u001b[38;5;124m\"\u001b[39m\u001b[38;5;124mInstead got an unsupported type: \u001b[39m\u001b[38;5;132;01m{\u001b[39;00m\u001b[38;5;28mtype\u001b[39m(thing)\u001b[38;5;132;01m}\u001b[39;00m\u001b[38;5;124m\"\u001b[39m\n\u001b[0;32m   5842\u001b[0m     )\n\u001b[1;32m-> 5843\u001b[0m     \u001b[38;5;28;01mraise\u001b[39;00m \u001b[38;5;167;01mTypeError\u001b[39;00m(msg)\n",
      "\u001b[1;31mTypeError\u001b[0m: Expected a Runnable, callable or dict.Instead got an unsupported type: <class 'str'>"
     ]
    }
   ],
   "source": [
    "from langchain_core.prompts import ChatPromptTemplate\n",
    "\n",
    "prompt = ChatPromptTemplate.from_template(\"\"\"\n",
    "    다음 컨텍스트에 대해서만 답하세요.\n",
    "    컨텍스트 :\n",
    "    {context}\n",
    "    질문:\n",
    "    {query}\n",
    "\"\"\")\n",
    "\n",
    "chain = {\n",
    "            \"context\": \"Vector Search에 의한 컨텐스트 내용\", \n",
    "            \"query\": \"질의 내용\"\n",
    "        } | prompt\n",
    "print(chain.invoke({}))"
   ]
  },
  {
   "cell_type": "code",
   "execution_count": 28,
   "metadata": {},
   "outputs": [
    {
     "name": "stdout",
     "output_type": "stream",
     "text": [
      "\n",
      "    다음 컨텍스트에 대해서만 답하세요.\n",
      "    컨텍스트 :\n",
      "    Vector Search에 의한 컨텐스트 내용\n",
      "    질문:\n",
      "    질문입니다.\n",
      "\n"
     ]
    }
   ],
   "source": [
    "from langchain_core.prompts import ChatPromptTemplate\n",
    "# from langchain.schema.runnable import RunnablePassthrough\n",
    "from langchain_core.runnables import RunnablePassthrough\n",
    "\n",
    "prompt = ChatPromptTemplate.from_template(\"\"\"\n",
    "    다음 컨텍스트에 대해서만 답하세요.\n",
    "    컨텍스트 :\n",
    "    {context}\n",
    "    질문:\n",
    "    {query}\n",
    "\"\"\")\n",
    "\n",
    "chain = ({\n",
    "            # vector 컨텐스트 들어갈 부분\n",
    "            \"context\": RunnableLambda(lambda x: \"Vector Search에 의한 컨텐스트 내용\"), \n",
    "            \"query\": RunnablePassthrough()\n",
    "        } | prompt)\n",
    "# 이미지를 넣는 부분\n",
    "print(chain.invoke(\"질문입니다.\").messages[0].content)"
   ]
  },
  {
   "cell_type": "markdown",
   "metadata": {},
   "source": [
    "- Runnable 객체를 만들면 pipeline에 태울 수 있다는 것을 아는게 중요함."
   ]
  }
 ],
 "metadata": {
  "kernelspec": {
   "display_name": "lc_rag_proj_env",
   "language": "python",
   "name": "python3"
  },
  "language_info": {
   "codemirror_mode": {
    "name": "ipython",
    "version": 3
   },
   "file_extension": ".py",
   "mimetype": "text/x-python",
   "name": "python",
   "nbconvert_exporter": "python",
   "pygments_lexer": "ipython3",
   "version": "3.12.7"
  }
 },
 "nbformat": 4,
 "nbformat_minor": 2
}
