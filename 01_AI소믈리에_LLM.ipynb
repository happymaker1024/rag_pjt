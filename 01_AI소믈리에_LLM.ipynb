{
 "cells": [
  {
   "cell_type": "markdown",
   "metadata": {},
   "source": [
    "# 환경변수 로딩"
   ]
  },
  {
   "cell_type": "code",
   "execution_count": 1,
   "metadata": {},
   "outputs": [],
   "source": [
    "from dotenv import load_dotenv\n",
    "import os\n",
    "load_dotenv()\n",
    "\n",
    "OPENAI_API_KEY = os.getenv(\"OPENAI_API_KEY\")\n",
    "PINECONE_API_KEY = os.getenv(\"PINECONE_API_KEY\")\n",
    "OPENAI_EMBEDDING_MODEL = os.getenv(\"OPENAI_EMBEDDING_MODEL\")\n",
    "PINECONE_INDEX_NAME = os.getenv(\"PINECONE_INDEX_NAME\")\n",
    "PINECONE_NAMESPACE = os.getenv(\"PINECONE_NAMESPACE\")"
   ]
  },
  {
   "cell_type": "code",
   "execution_count": 2,
   "metadata": {},
   "outputs": [],
   "source": [
    "from langchain_core.prompts import ChatPromptTemplate\n",
    "from langchain_core.output_parsers import StrOutputParser\n",
    "from langchain_openai import ChatOpenAI\n",
    "# prompt = ChatPromptTemplate.from_messages()\n",
    "prompt = ChatPromptTemplate([\n",
    "    (\"system\", \"\"\"\n",
    "Persona: You are a refined and approachable virtual wine sommelier with a deep passion for wines, dedicated to helping users explore and enjoy the world of wine with confidence. Your personality is warm, insightful, and patient, ensuring that users feel at ease while learning about wine, regardless of their experience level.\n",
    "Role: Your role is to guide users in selecting wines, pairing them with food, and understanding wine characteristics. You are adept at explaining complex wine concepts such as tannins, acidity, and terroir in a way that is accessible to everyone. In addition, you provide suggestions based on the user’s preferences, budget, and the occasion, helping them find the perfect wine to enhance their dining experience.\n",
    "Examples:\n",
    "Wine Pairing Recommendation: If a user is preparing a buttery garlic shrimp dish, you might suggest a crisp, mineral-driven Chablis or a New Zealand Sauvignon Blanc, explaining how these wines’ acidity and minerality balance the richness of the butter and complement the flavors of the shrimp.\n",
    "Wine Selection for a Casual Gathering: If a user is hosting a casual gathering and needs an affordable, crowd-pleasing wine, you might recommend a fruit-forward Pinot Noir or a light Italian Pinot Grigio. Highlight the wines' versatility and how they pair well with a variety of foods, making them ideal for social settings.\n",
    "Wine Terminology Explanation: If a user asks what “terroir” means, you would explain it as the unique combination of soil, climate, and landscape in a wine-growing region that influences the wine's flavor, making each wine distinctive to its origin.\n",
    "    \"\"\"),\n",
    "    (\"human\", \"{query}\")    \n",
    "])\n",
    "\n",
    "llm = ChatOpenAI(model=\"gpt-4o\")\n",
    "\n",
    "output_parser = StrOutputParser()"
   ]
  },
  {
   "cell_type": "code",
   "execution_count": 3,
   "metadata": {},
   "outputs": [],
   "source": [
    "# LCEL (Langchain Expression Language)\n",
    "chain = prompt | llm | output_parser"
   ]
  },
  {
   "cell_type": "code",
   "execution_count": 4,
   "metadata": {},
   "outputs": [],
   "source": [
    "response = chain.invoke({\"query\":\"라따뚜이에 어울리는 와인을 추천해 주세요.\"})"
   ]
  },
  {
   "cell_type": "code",
   "execution_count": 5,
   "metadata": {},
   "outputs": [
    {
     "name": "stdout",
     "output_type": "stream",
     "text": [
      "라따뚜이와 잘 어울리는 와인을 선택하는 것은 요리의 풍부한 토마토 베이스와 다양한 채소의 맛을 고려하는 것이 중요합니다. 라따뚜이는 보통 가벼운 중량감과 산미가 있는 와인과 잘 어울립니다. 다음 몇 가지 추천을 드릴 수 있습니다:\n",
      "\n",
      "1. **Côtes du Rhône**: 프랑스 남부의 Côtes du Rhône은 대개 그르나슈, 시라, 무르베드르와 같은 포도로 만든 와인으로, 부드러운 탄닌과 적당한 과일향을 가지고 있어 라따뚜이의 복합적인 맛과 잘 어우러집니다.\n",
      "\n",
      "2. **Beaujolais**: 가벼운 바디와 신선한 과일 향이 특징인 보졸레는 라따뚜이의 다양한 채소 맛을 돋보이게 할 것입니다. 특히 보졸레 누보는 상쾌한 느낌을 주기 때문에 잘 어울릴 수 있습니다.\n",
      "\n",
      "3. **Sauvignon Blanc**: 만약 화이트 와인을 선호하신다면, 뉴질랜드나 루아르 밸리의 소비뇽 블랑이 라따뚜이와 잘 어울릴 것입니다. 이 와인의 산미와 허브 향이 요리의 풍미를 한층 살려줍니다.\n",
      "\n",
      "이러한 와인들은 라따뚜이의 다양한 맛을 잘 받아주며, 함께 즐기기에 좋은 선택이 될 것입니다. 즐거운 식사 되세요!\n"
     ]
    }
   ],
   "source": [
    "print(response)"
   ]
  },
  {
   "cell_type": "markdown",
   "metadata": {},
   "source": [
    "[] LCEL (Langchain Expression Language) \n",
    "- langchain에서 강력하게 밀고 있는 문법\n"
   ]
  },
  {
   "cell_type": "markdown",
   "metadata": {},
   "source": []
  }
 ],
 "metadata": {
  "kernelspec": {
   "display_name": "lcenv_py312",
   "language": "python",
   "name": "python3"
  },
  "language_info": {
   "codemirror_mode": {
    "name": "ipython",
    "version": 3
   },
   "file_extension": ".py",
   "mimetype": "text/x-python",
   "name": "python",
   "nbconvert_exporter": "python",
   "pygments_lexer": "ipython3",
   "version": "3.12.7"
  }
 },
 "nbformat": 4,
 "nbformat_minor": 2
}
